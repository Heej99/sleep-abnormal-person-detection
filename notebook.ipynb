{
 "cells": [
  {
   "cell_type": "code",
   "execution_count": 4,
   "metadata": {},
   "outputs": [
    {
     "name": "stdout",
     "output_type": "stream",
     "text": [
      "MPS 장치를 지원하도록 build가 되었는가? True\n",
      "MPS 장치가 사용 가능한가? True\n"
     ]
    }
   ],
   "source": [
    "import torch\n",
    "print(f\"MPS 장치를 지원하도록 build가 되었는가? {torch.backends.mps.is_built()}\")\n",
    "print(f\"MPS 장치가 사용 가능한가? {torch.backends.mps.is_available()}\")"
   ]
  },
  {
   "cell_type": "code",
   "execution_count": 6,
   "metadata": {},
   "outputs": [
    {
     "data": {
      "text/plain": [
       "device(type='cpu')"
      ]
     },
     "execution_count": 6,
     "metadata": {},
     "output_type": "execute_result"
    }
   ],
   "source": [
    "device = torch.device(\"mps\")\n",
    "torch.device('cuda' if (torch.cuda.is_available() and config['gpu'] != '-1') else 'cpu')"
   ]
  },
  {
   "cell_type": "code",
   "execution_count": 13,
   "metadata": {},
   "outputs": [],
   "source": [
    "c = torch.tensor([[ 1, 2, 3], [-1, 1, 4]] , dtype=torch.float)"
   ]
  },
  {
   "cell_type": "code",
   "execution_count": 15,
   "metadata": {},
   "outputs": [
    {
     "data": {
      "text/plain": [
       "tensor([[ 1.,  2.,  3.],\n",
       "        [-1.,  1.,  4.]])"
      ]
     },
     "execution_count": 15,
     "metadata": {},
     "output_type": "execute_result"
    }
   ],
   "source": [
    "c"
   ]
  },
  {
   "cell_type": "code",
   "execution_count": 17,
   "metadata": {},
   "outputs": [
    {
     "data": {
      "text/plain": [
       "tensor([3.7417, 4.2426])"
      ]
     },
     "execution_count": 17,
     "metadata": {},
     "output_type": "execute_result"
    }
   ],
   "source": [
    "torch.norm(c, dim=1)"
   ]
  },
  {
   "cell_type": "code",
   "execution_count": 18,
   "metadata": {},
   "outputs": [
    {
     "data": {
      "text/plain": [
       "3.0804"
      ]
     },
     "execution_count": 18,
     "metadata": {},
     "output_type": "execute_result"
    }
   ],
   "source": [
    "import numpy as np\n",
    "np.sqrt((0.9041 + 2.1763)**2)"
   ]
  },
  {
   "cell_type": "code",
   "execution_count": 19,
   "metadata": {},
   "outputs": [
    {
     "name": "stdout",
     "output_type": "stream",
     "text": [
      "tensor(2.7453)\n"
     ]
    }
   ],
   "source": [
    "import torch\n",
    "\n",
    "a = torch.tensor([[ 0.9041,  0.0196],\n",
    "                  [-0.3108, -2.4423],\n",
    "                  [-0.4821,  1.0590]])\n",
    "\n",
    "# 두 벡터 간의 유클리드 거리 계산\n",
    "euclidean_distance = torch.norm(a[0] - a[1])\n",
    "\n",
    "print(euclidean_distance)"
   ]
  },
  {
   "cell_type": "code",
   "execution_count": 72,
   "metadata": {},
   "outputs": [
    {
     "name": "stdout",
     "output_type": "stream",
     "text": [
      "tensor([[[ 0.7823,  0.3551,  2.1916,  3.3290],\n",
      "         [ 4.5433,  0.3731,  7.5202, 12.4366],\n",
      "         [ 2.3750,  0.1011,  3.4559,  5.9319]],\n",
      "\n",
      "        [[ 0.7823,  0.6333,  2.8234,  4.2390],\n",
      "         [ 4.5433,  0.3731,  7.5202, 12.4366],\n",
      "         [ 2.3750,  0.1011,  3.4559,  5.9319]]])\n"
     ]
    }
   ],
   "source": [
    "import torch\n",
    "from itertools import combinations\n",
    "\n",
    "# 예시 입력 텐서\n",
    "X = torch.tensor([[[ 0.9041,  0.0196,  1.5],\n",
    "                   [-0.3108, -2.4423,  0.3],\n",
    "                   [-0.4821,  1.0590, -0.8]],\n",
    "\n",
    "                  [[ 0.9042,  0.0197,  1.7],\n",
    "                   [-0.3108, -2.4423,  0.3],\n",
    "                   [-0.4821,  1.0590, -0.8]]])\n",
    "\n",
    "# Compute Euclidean distances for each feature pair\n",
    "batch_size, seq_length, feat_dim = X.shape\n",
    "num_combinations = feat_dim * (feat_dim - 1) // 2\n",
    "pair_distances = torch.zeros((batch_size, seq_length, num_combinations), device=X.device)\n",
    "\n",
    "# pair uclidean\n",
    "comb_idx = 0\n",
    "for (f1, f2) in combinations(range(feat_dim), 2):\n",
    "    diff = X[:, :, f1] - X[:, :, f2]\n",
    "    dist = diff.pow(2)\n",
    "    pair_distances[:, :, comb_idx] = dist\n",
    "    comb_idx += 1\n",
    "\n",
    "# all uclidean \n",
    "all_distance = torch.sum(pair_distances, dim=2 ,keepdim=True)\n",
    "\n",
    "a = torch.cat((pair_distances, all_distance), dim=-1) \n",
    "\n",
    "print(a)"
   ]
  },
  {
   "cell_type": "code",
   "execution_count": 73,
   "metadata": {},
   "outputs": [
    {
     "data": {
      "text/plain": [
       "3.329"
      ]
     },
     "execution_count": 73,
     "metadata": {},
     "output_type": "execute_result"
    }
   ],
   "source": [
    "a = [0.7823,  0.3551,  2.1916]\n",
    "np.sum(a)"
   ]
  },
  {
   "cell_type": "code",
   "execution_count": 71,
   "metadata": {},
   "outputs": [
    {
     "data": {
      "text/plain": [
       "tensor([[[0.7823, 0.3551, 2.1916],\n",
       "         [4.5433, 0.3731, 7.5202],\n",
       "         [2.3750, 0.1011, 3.4559]],\n",
       "\n",
       "        [[0.7823, 0.6333, 2.8234],\n",
       "         [4.5433, 0.3731, 7.5202],\n",
       "         [2.3750, 0.1011, 3.4559]]])"
      ]
     },
     "execution_count": 71,
     "metadata": {},
     "output_type": "execute_result"
    }
   ],
   "source": [
    "pair_distances"
   ]
  },
  {
   "cell_type": "code",
   "execution_count": 68,
   "metadata": {},
   "outputs": [
    {
     "name": "stdout",
     "output_type": "stream",
     "text": [
      "tensor([[[ 2.4237],\n",
      "         [-2.4531],\n",
      "         [-0.2231]],\n",
      "\n",
      "        [[ 2.6239],\n",
      "         [-2.4531],\n",
      "         [-0.2231]]])\n"
     ]
    }
   ],
   "source": [
    "X = torch.tensor([[[ 0.9041,  0.0196,  1.5],\n",
    "                   [-0.3108, -2.4423,  0.3],\n",
    "                   [-0.4821,  1.0590, -0.8]],\n",
    "\n",
    "                  [[ 0.9042,  0.0197,  1.7],\n",
    "                   [-0.3108, -2.4423,  0.3],\n",
    "                   [-0.4821,  1.0590, -0.8]]])\n",
    "\n",
    "distances_2 = torch.sum(X, dim=2 ,keepdim=True)\n",
    "\n",
    "print(distances_2)"
   ]
  },
  {
   "cell_type": "code",
   "execution_count": 66,
   "metadata": {},
   "outputs": [
    {
     "data": {
      "text/plain": [
       "-2.4531"
      ]
     },
     "execution_count": 66,
     "metadata": {},
     "output_type": "execute_result"
    }
   ],
   "source": [
    "sum([ -0.3108, -2.4423,  0.3])"
   ]
  },
  {
   "cell_type": "code",
   "execution_count": null,
   "metadata": {},
   "outputs": [],
   "source": [
    "X = torch.tensor([[[ 0.9041,  0.0196,  1.5],\n",
    "                   [-0.3108, -2.4423,  0.3],\n",
    "                   [-0.4821,  1.0590, -0.8]],\n",
    "\n",
    "                  [[ 0.9042,  0.0197,  1.7],\n",
    "                   [-0.3108, -2.4423,  0.3],\n",
    "                   [-0.4821,  1.0590, -0.8]]])\n"
   ]
  },
  {
   "cell_type": "code",
   "execution_count": 57,
   "metadata": {},
   "outputs": [
    {
     "data": {
      "text/plain": [
       "1.824560555311881"
      ]
     },
     "execution_count": 57,
     "metadata": {},
     "output_type": "execute_result"
    }
   ],
   "source": [
    "np.sqrt((0.9041-0.0196)**2 + (0.9041-1.5)**2 + (0.0196-1.5)**2)"
   ]
  },
  {
   "cell_type": "code",
   "execution_count": null,
   "metadata": {},
   "outputs": [],
   "source": [
    "np.sqrt()"
   ]
  },
  {
   "cell_type": "code",
   "execution_count": null,
   "metadata": {},
   "outputs": [],
   "source": [
    "distance.sum"
   ]
  },
  {
   "cell_type": "code",
   "execution_count": 32,
   "metadata": {},
   "outputs": [
    {
     "data": {
      "text/plain": [
       "1.4804"
      ]
     },
     "execution_count": 32,
     "metadata": {},
     "output_type": "execute_result"
    }
   ],
   "source": [
    "np.sqrt((0.0196 - 1.5)**2)"
   ]
  },
  {
   "cell_type": "code",
   "execution_count": 21,
   "metadata": {},
   "outputs": [
    {
     "data": {
      "text/plain": [
       "3"
      ]
     },
     "execution_count": 21,
     "metadata": {},
     "output_type": "execute_result"
    }
   ],
   "source": [
    "num_combinations"
   ]
  },
  {
   "cell_type": "code",
   "execution_count": 24,
   "metadata": {},
   "outputs": [
    {
     "data": {
      "text/plain": [
       "torch.Size([2, 3, 3])"
      ]
     },
     "execution_count": 24,
     "metadata": {},
     "output_type": "execute_result"
    }
   ],
   "source": [
    "X.shape"
   ]
  },
  {
   "cell_type": "code",
   "execution_count": 25,
   "metadata": {},
   "outputs": [
    {
     "data": {
      "text/plain": [
       "torch.Size([3, 2, 3])"
      ]
     },
     "execution_count": 25,
     "metadata": {},
     "output_type": "execute_result"
    }
   ],
   "source": [
    "distances.shape"
   ]
  },
  {
   "cell_type": "code",
   "execution_count": 74,
   "metadata": {},
   "outputs": [],
   "source": [
    "import torch\n",
    "import torch.nn as nn"
   ]
  },
  {
   "cell_type": "code",
   "execution_count": 82,
   "metadata": {},
   "outputs": [
    {
     "name": "stdout",
     "output_type": "stream",
     "text": [
      "ㅎㅎ2: torch.Size([4, 3]) torch.Size([4, 2, 3])\n",
      "확인:\n",
      " tensor([[-0.0121,  0.0073],\n",
      "        [-0.0109, -0.0134],\n",
      "        [ 0.4587,  0.5558],\n",
      "        [ 0.3416,  0.3909]], grad_fn=<ViewBackward0>)\n",
      "확인2:\n",
      " tensor([[[-0.0121, -0.0121, -0.0121,  ..., -0.0121, -0.0121, -0.0121],\n",
      "         [ 0.0073,  0.0073,  0.0073,  ...,  0.0073,  0.0073,  0.0073]],\n",
      "\n",
      "        [[-0.0109, -0.0109, -0.0109,  ..., -0.0109, -0.0109, -0.0109],\n",
      "         [-0.0134, -0.0134, -0.0134,  ..., -0.0134, -0.0134, -0.0134]],\n",
      "\n",
      "        [[ 0.4587,  0.4587,  0.4587,  ...,  0.4587,  0.4587,  0.4587],\n",
      "         [ 0.5558,  0.5558,  0.5558,  ...,  0.5558,  0.5558,  0.5558]],\n",
      "\n",
      "        [[ 0.3416,  0.3416,  0.3416,  ...,  0.3416,  0.3416,  0.3416],\n",
      "         [ 0.3909,  0.3909,  0.3909,  ...,  0.3909,  0.3909,  0.3909]]],\n",
      "       grad_fn=<ExpandBackward0>)\n",
      "<built-in method size of Tensor object at 0x11f50ee00>\n",
      "torch.Size([4, 2, 512])\n",
      "tensor([[[ 0.0920,  0.0000,  1.1212,  ...,  0.9889,  0.4387, -0.0000],\n",
      "         [ 1.4183, -0.5518, -1.5567,  ...,  1.5081,  0.4036, -1.4960]],\n",
      "\n",
      "        [[ 0.5748, -0.8249,  0.8164,  ..., -0.6043, -0.6559, -2.6880],\n",
      "         [ 1.5371, -1.8880,  0.8467,  ..., -0.0391, -0.0000,  1.0603]],\n",
      "\n",
      "        [[ 1.3601,  1.8922,  0.9106,  ..., -0.1971,  1.3292,  1.2642],\n",
      "         [ 2.0476, -0.1426,  0.1835,  ...,  2.4889,  1.6454,  0.7079]],\n",
      "\n",
      "        [[-0.1846,  0.1817,  0.3578,  ...,  0.0110,  0.4480,  0.5631],\n",
      "         [ 1.4803,  0.0049, -0.0590,  ..., -0.6286,  1.3986, -1.4707]]],\n",
      "       grad_fn=<MulBackward0>)\n"
     ]
    }
   ],
   "source": [
    "import torch\n",
    "import torch.nn as nn\n",
    "\n",
    "class SleepEncoding(nn.Module):\n",
    "\n",
    "    def __init__(self, sequence_length, sleep_feat_dim, d_model, dropout=0):\n",
    "        super(SleepEncoding, self).__init__()\n",
    "        self.sleep = nn.Parameter(torch.empty(sequence_length, sleep_feat_dim))  # 학습 가능한 파라미터\n",
    "        self.d_model = d_model\n",
    "        nn.init.uniform_(self.sleep, -0.02, 0.02)\n",
    "        self.dropout = nn.Dropout(p=dropout)\n",
    "\n",
    "    def forward(self, x, sleep_feat):\n",
    "        r\"\"\"Inputs of forward function\n",
    "        Args:\n",
    "            x: the sequence after positional encoding\n",
    "            sleep_feat: additional feature tensor\n",
    "        Shape:\n",
    "            x: [sequence length, batch size, d_model]\n",
    "            sleep_feat: [sequence length, batch size, feat_dim]\n",
    "            output: [sequence length, batch size, d_model]\n",
    "        \"\"\"\n",
    "        # Validate dimensions\n",
    "        seq_len, batch_size, _ = x.size()\n",
    "        assert sleep_feat.size(0) == seq_len and sleep_feat.size(1) == batch_size, \\\n",
    "            \"Sequence length and batch size must match between x and sleep_feat\"\n",
    "\n",
    "        # Compute weighted sum of sleep features\n",
    "        print(\"ㅎㅎ2:\", self.sleep.size(),sleep_feat.size())\n",
    "        weighted_sleep_feat = torch.einsum('sf,sbf->sb', self.sleep, sleep_feat)\n",
    "        print(\"확인:\\n\",weighted_sleep_feat)\n",
    "\n",
    "        # Expand to match the last dimension of x\n",
    "        weighted_sleep_feat = weighted_sleep_feat.unsqueeze(-1).expand(-1, -1, self.d_model)\n",
    "        print(\"확인2:\\n\",weighted_sleep_feat)\n",
    "        print(weighted_sleep_feat.size)    \n",
    "\n",
    "        # Add to x and apply dropout\n",
    "        x = x + weighted_sleep_feat\n",
    "        return self.dropout(x)\n",
    "\n",
    "# Example usage\n",
    "sequence_length = 4\n",
    "sleep_feat_dim = 3\n",
    "d_model = 512\n",
    "dropout = 0.1\n",
    "\n",
    "model = SleepEncoding(sequence_length, sleep_feat_dim, d_model, dropout)\n",
    "x = torch.randn(sequence_length, 2, d_model)  # [sequence length, batch size, d_model]\n",
    "sleep_feat = torch.tensor([[[1.0, 2.0, 3.0],\n",
    "                            [4.0, 5.0, 6.0]],\n",
    "                           [[7.0, 8.0, 9.0],\n",
    "                            [10.0, 11.0, 12.0]],\n",
    "                           [[13.0, 14.0, 15.0],\n",
    "                            [16.0, 17.0, 18.0]],\n",
    "                           [[19.0, 20.0, 21.0],\n",
    "                            [22.0, 23.0, 24.0]]], requires_grad=True)  # [sequence length, batch size, feat_dim]\n",
    "\n",
    "output = model(x, sleep_feat)\n",
    "print(output.shape)  # Should be [sequence length, batch size, d_model]\n",
    "print(output)\n"
   ]
  },
  {
   "cell_type": "code",
   "execution_count": 79,
   "metadata": {},
   "outputs": [],
   "source": [
    "sleep_feat = torch.tensor([[[1.0, 2.0, 3.0],\n",
    "                            [4.0, 5.0, 6.0]],\n",
    "                           [[7.0, 8.0, 9.0],\n",
    "                            [10.0, 11.0, 12.0]],\n",
    "                           [[13.0, 14.0, 15.0],\n",
    "                            [16.0, 17.0, 18.0]],\n",
    "                           [[19.0, 20.0, 21.0],\n",
    "                            [22.0, 23.0, 24.0]]], requires_grad=True)  # "
   ]
  },
  {
   "cell_type": "code",
   "execution_count": 81,
   "metadata": {},
   "outputs": [
    {
     "data": {
      "text/plain": [
       "3"
      ]
     },
     "execution_count": 81,
     "metadata": {},
     "output_type": "execute_result"
    }
   ],
   "source": [
    "sleep_feat.size(-1)"
   ]
  },
  {
   "cell_type": "code",
   "execution_count": null,
   "metadata": {},
   "outputs": [],
   "source": []
  }
 ],
 "metadata": {
  "kernelspec": {
   "display_name": "unsupervised_sleep_abnormal",
   "language": "python",
   "name": "python3"
  },
  "language_info": {
   "codemirror_mode": {
    "name": "ipython",
    "version": 3
   },
   "file_extension": ".py",
   "mimetype": "text/x-python",
   "name": "python",
   "nbconvert_exporter": "python",
   "pygments_lexer": "ipython3",
   "version": "3.8.19"
  }
 },
 "nbformat": 4,
 "nbformat_minor": 2
}
